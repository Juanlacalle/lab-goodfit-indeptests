{
 "cells": [
  {
   "cell_type": "markdown",
   "metadata": {},
   "source": [
    "## Question 1\n",
    "The following table indicates the number of 6-point scores in an American rugby match in the 1979 season.\n",
    "\n",
    "![](table1.png)\n",
    "\n",
    "Based on these results, we create a Poisson distribution with the sample mean parameter  = 2.435. Is there any reason to believe that at a .05 level the number of scores is a Poisson variable?"
   ]
  },
  {
   "cell_type": "code",
   "execution_count": 5,
   "metadata": {},
   "outputs": [
    {
     "name": "stdout",
     "output_type": "stream",
     "text": [
      "0.4836889068537269\n",
      "6.491310681109821\n"
     ]
    },
    {
     "data": {
      "text/plain": [
       "12.591587243743977"
      ]
     },
     "execution_count": 5,
     "metadata": {},
     "output_type": "execute_result"
    }
   ],
   "source": [
    "# your answer here\n",
    "import numpy as np\n",
    "from scipy.stats import linregress\n",
    "from scipy.stats import poisson\n",
    "import matplotlib.pyplot as plt\n",
    "from pandas import DataFrame\n",
    "from scipy import stats\n",
    "import scipy\n",
    "from scipy import stats\n",
    "\n",
    "observed_values = np.array([35,99,104,110,62,25,10,3])\n",
    "mu = 2.435 # lambda\n",
    "\n",
    "prob = [stats.poisson.pmf(i, mu) for i in range(len(observed_values)-1)]\n",
    "prob.append(1-sum(prob))\n",
    "\n",
    "f_exp = [p * sum (observed_values) for p in prob]\n",
    "p_value = stats.chisquare(observed_values, f_exp=f_exp)[1]\n",
    "chi_2 = stats.chisquare(observed_values, f_exp=f_exp)[0]\n",
    "\n",
    "print (p_value)\n",
    "print (chi_2)\n",
    "\n",
    "stats.chisquare(observed_values, f_exp=f_exp)\n",
    "\n",
    "from math import pow\n",
    "sum(pow(f_exp[i]-observed_values[i],2)/f_exp[i] for i in range(len(observed_values)))\n",
    "from scipy.stats import chi2\n",
    "critical_value = chi2.ppf(q=1-0.05, df=len(observed_values)-1-1)\n",
    "critical_value"
   ]
  },
  {
   "cell_type": "code",
   "execution_count": null,
   "metadata": {},
   "outputs": [],
   "source": []
  },
  {
   "cell_type": "markdown",
   "metadata": {},
   "source": [
    "## Question 2\n",
    "The following are the ordered values of a random sample of SAT scores (university entrance exam) for several students: 852, 875, 910, 933, 957, 963, 981, 998, 1010, 1015, 1018, 1023, 1035, 1048, 1063. In previous years, the scores were presented by N (985,50). Based on the sample, is there any reason to believe that there has been a change in the distribution of scores this year? Use the level alpha = 0.05. "
   ]
  },
  {
   "cell_type": "code",
   "execution_count": null,
   "metadata": {},
   "outputs": [],
   "source": []
  },
  {
   "cell_type": "code",
   "execution_count": 17,
   "metadata": {},
   "outputs": [
    {
     "data": {
      "text/plain": [
       "KstestResult(statistic=0.1581291279406798, pvalue=0.847406396427736)"
      ]
     },
     "execution_count": 17,
     "metadata": {},
     "output_type": "execute_result"
    }
   ],
   "source": [
    "#your answer here\n",
    "sats = [852, 875, 910, 933, 957, 963, 981, 998, 1010, 1015, 1018, 1023, 1035, 1048, 1063]\n",
    "\n",
    "expected_model = stats.norm(loc=985, scale=50)\n",
    "stats.kstest(sats, expected_model.cdf)"
   ]
  },
  {
   "cell_type": "markdown",
   "metadata": {},
   "source": [
    "## Question 3\n",
    "Let's analyze a discrete distribution. To analyze the number of defective items in a factory in the city of Medellín, we took a random sample of n = 60 articles and observed the number of defectives in the following table:\n",
    "\n",
    "![](table4.png)\n",
    "\n",
    "A poissón distribution was proposed since it is defined for x = 0,1,2,3, .... using the following model:\n",
    "\n",
    "![](image1.png)\n",
    "\n",
    "Does the distribution of defective items follow this distribution?"
   ]
  },
  {
   "cell_type": "code",
   "execution_count": 18,
   "metadata": {},
   "outputs": [
    {
     "data": {
      "text/plain": [
       "Power_divergenceResult(statistic=101.7671294206864, pvalue=4.135980035983618e-21)"
      ]
     },
     "execution_count": 18,
     "metadata": {},
     "output_type": "execute_result"
    }
   ],
   "source": [
    "# your code here\n",
    "observed = np.array([32, 15, 0, 9, 4])/60\n",
    "obs_mean = np.mean(observed)\n",
    "\n",
    "expected = [stats.poisson.pmf(k, mu=obs_mean) for k in range(5)]\n",
    "\n",
    "stats.chisquare(observed, f_exp=expected)"
   ]
  },
  {
   "cell_type": "markdown",
   "metadata": {},
   "source": [
    "## Question 4\n",
    "A quality control engineer takes a sample of 10 tires that come out of an assembly line, and would like to verify on the basis of the data that follows, if the number of tires with defects observed over 200 days, if it is true that 5% of all tires have defects (that is, if the sample comes from a binomial population with n = 10 and p = 0.05). \n",
    "\n",
    "![](table6.png)\n"
   ]
  },
  {
   "cell_type": "code",
   "execution_count": 19,
   "metadata": {},
   "outputs": [
    {
     "data": {
      "text/plain": [
       "Power_divergenceResult(statistic=0.04153089759771364, pvalue=0.9794486684913939)"
      ]
     },
     "execution_count": 19,
     "metadata": {},
     "output_type": "execute_result"
    }
   ],
   "source": [
    "# your answer here\n",
    "n = 10\n",
    "p = 0.05\n",
    "\n",
    "observed = np.array([138, 53, 9])/200\n",
    "\n",
    "expected = np.array([stats.binom.pmf(x, n, p) for x in range(2)])\n",
    "expected = np.append(expected, 1-expected.sum())\n",
    "\n",
    "stats.chisquare(observed, f_exp=expected)"
   ]
  },
  {
   "cell_type": "markdown",
   "metadata": {},
   "source": [
    "## Question 5\n",
    "A researcher gathers information about the patterns of physical activity (AF) of children in the fifth grade of primary school of a public school. He defines three categories of physical activity (1 = Low, 2 = Medium, 3 = High). He also inquires about the regular consumption of sugary drinks at school, and defines two categories (1 = consumed, 0 = not consumed). We would like to evaluate if there is an association between patterns of physical activity and the consumption of sugary drinks for the children of this school, at a level of 5% significance. The results are in the following table: \n",
    "\n",
    "![](table5.png)"
   ]
  },
  {
   "cell_type": "code",
   "execution_count": 23,
   "metadata": {},
   "outputs": [
    {
     "name": "stdout",
     "output_type": "stream",
     "text": [
      "Chi: 10.71 ; critical value: 117.63\n",
      "Null hypothesis can't be rejected\n"
     ]
    }
   ],
   "source": [
    "#your answer here\n",
    "observed = scipy.array([32, 12, 14, 22, 6, 9])\n",
    "expected = scipy.array([44*52/95, 44*43/95, 36*52/95, 36*43/95, 15*52/95, 15*43/95])\n",
    "\n",
    "chi = sum((observed - expected)**2 / expected)\n",
    "dof = 95-1 # degrees of freedom\n",
    "alpha = 0.05 # significance\n",
    "\n",
    "critical_value = stats.chi2.ppf(q = 1 - alpha, df = dof)\n",
    "print(\"Chi:\", round(chi, 2), \"; critical value:\", round(critical_value, 2))\n",
    "print(\"Null hypothesis rejected\") if critical_value < chi else print(\"Null hypothesis can't be rejected\")"
   ]
  },
  {
   "cell_type": "code",
   "execution_count": null,
   "metadata": {},
   "outputs": [],
   "source": []
  },
  {
   "cell_type": "code",
   "execution_count": null,
   "metadata": {},
   "outputs": [],
   "source": []
  }
 ],
 "metadata": {
  "kernelspec": {
   "display_name": "Python 3",
   "language": "python",
   "name": "python3"
  },
  "language_info": {
   "codemirror_mode": {
    "name": "ipython",
    "version": 3
   },
   "file_extension": ".py",
   "mimetype": "text/x-python",
   "name": "python",
   "nbconvert_exporter": "python",
   "pygments_lexer": "ipython3",
   "version": "3.7.3"
  }
 },
 "nbformat": 4,
 "nbformat_minor": 2
}
